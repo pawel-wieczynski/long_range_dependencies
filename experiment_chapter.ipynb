{
 "cells": [
  {
   "cell_type": "code",
   "execution_count": 6,
   "id": "99078157",
   "metadata": {},
   "outputs": [],
   "source": [
    "import re\n",
    "import numpy as np\n",
    "import pandas as pd\n",
    "from gensim.models import KeyedVectors\n",
    "from gensim.utils import tokenize\n",
    "import LRDEstimator\n",
    "import utils\n",
    "from scipy.optimize import curve_fit\n",
    "import matplotlib.pyplot as plt\n",
    "import seaborn as sns"
   ]
  },
  {
   "cell_type": "markdown",
   "id": "73232068",
   "metadata": {},
   "source": [
    "## Standardized Project Gutenberg Corpus"
   ]
  },
  {
   "cell_type": "markdown",
   "id": "77cf6885",
   "metadata": {},
   "source": [
    "### Prepare the data"
   ]
  },
  {
   "cell_type": "code",
   "execution_count": 7,
   "id": "937ea384",
   "metadata": {},
   "outputs": [],
   "source": [
    "# Read sampled dataset\n",
    "spgc_metadata_sampled = pd.read_csv(\"data/spgc_metadata_sampled.csv\")"
   ]
  },
  {
   "cell_type": "code",
   "execution_count": 8,
   "id": "b8ce4a88",
   "metadata": {},
   "outputs": [],
   "source": [
    "# We will be calculating Coco for pooled embeddings of order 1, 3, 9 and 27\n",
    "# Then we will be fitting power law (gamma) and stretched exponential function (delta and beta)\n",
    "# To our dataframe we need to add columns for storing the results\n",
    "new_columns = [\n",
    "    \"gamma_1\", \"gamma_3\", \"gamma_9\", \"gamma_27\",\n",
    "    \"delta_1\", \"delta_3\", \"delta_9\", \"delta_27\",\n",
    "    \"beta_1\", \"beta_3\", \"beta_9\", \"beta_27\",\n",
    "]\n",
    "spgc_metadata_sampled[new_columns] = np.nan"
   ]
  },
  {
   "cell_type": "markdown",
   "id": "5c40e879",
   "metadata": {},
   "source": [
    "### Define reusable functions"
   ]
  },
  {
   "cell_type": "code",
   "execution_count": 9,
   "id": "f81c1629",
   "metadata": {},
   "outputs": [],
   "source": [
    "def load_word2vec_embeddings(language_code: str, base_path: str = \"embeddings\") -> KeyedVectors:\n",
    "    \"\"\"\n",
    "    Load word2vec embeddings for a given language code.\n",
    "    \"\"\"\n",
    "    model_path = f\"{base_path}/word2vec_{language_code}.bin\"\n",
    "    return KeyedVectors.load_word2vec_format(model_path, binary=True)"
   ]
  },
  {
   "cell_type": "code",
   "execution_count": 10,
   "id": "2fbd3c1f",
   "metadata": {},
   "outputs": [],
   "source": [
    "def load_tokens(file_name: str, base_path: str = \"data/SGPC\") -> list:\n",
    "    \"\"\"\n",
    "    Load tokens from a file and return them as a list.\n",
    "    \"\"\"\n",
    "    file_path = f\"{base_path}/{file_name}_tokens.txt\"\n",
    "    with open(file_path, mode=\"r\", encoding=\"UTF-8\") as f:\n",
    "        tokens = f.read().split(\"\\n\")\n",
    "    return tokens\n"
   ]
  },
  {
   "cell_type": "code",
   "execution_count": 11,
   "id": "ce296431",
   "metadata": {},
   "outputs": [],
   "source": [
    "def compute_coco_values_for_book(vectors: np.ndarray, \n",
    "                                 file_name: str,\n",
    "                                 language: str,\n",
    "                                 pool_order: int,\n",
    "                                 coco_results: list,\n",
    "                                 lag_growth_factor: float = 1.1):\n",
    "    \"\"\"\n",
    "    Given the vectors for a single book, compute CoCo values at various lags\n",
    "    and store them in the coco_results list of dicts.\n",
    "    \"\"\"\n",
    "    lrd = LRDEstimator.LRDEstimator(vectors)\n",
    "    max_lag = int(vectors.shape[0] / 2) # TBD: maybe this should be smaller for poolend embeddings?\n",
    "    current_lag = 1\n",
    "    \n",
    "    while current_lag < max_lag:\n",
    "        # Example without permutation test:\n",
    "        coco_value = lrd.calculate_coco(lag=current_lag, pool_order=pool_order)\n",
    "        \n",
    "        coco_results.append({\n",
    "            \"language\": language,\n",
    "            \"book_id\": file_name,\n",
    "            \"pool_order\": pool_order,\n",
    "            \"lag\": int(current_lag),\n",
    "            \"coco_value\": coco_value,\n",
    "        })\n",
    "        \n",
    "        # Increase lag by ~10%\n",
    "        current_lag = int(np.ceil(current_lag * lag_growth_factor))"
   ]
  },
  {
   "cell_type": "code",
   "execution_count": 12,
   "id": "70e3ed19",
   "metadata": {},
   "outputs": [],
   "source": [
    "def fit_and_store_curves(spgc_df, coco_results, file_name, pool_order):\n",
    "    \"\"\"\n",
    "    Fit power law and stretched exponential to the CoCo results for a single\n",
    "    book_id and pool_order. Store results back into spgc_df.\n",
    "    \"\"\"\n",
    "    # Filter the relevant CoCo results\n",
    "    book_data = [\n",
    "        r for r in coco_results \n",
    "        if (r[\"book_id\"] == file_name) and (r[\"pool_order\"] == pool_order)\n",
    "    ]\n",
    "    if not book_data:\n",
    "        return  # No data to fit\n",
    "    \n",
    "    lags = np.array([d[\"lag\"] for d in book_data])\n",
    "    c_coco = np.array([d[\"coco_value\"] for d in book_data])\n",
    "    abs_coco = np.abs(c_coco)\n",
    "    \n",
    "    # Fit power law\n",
    "    try:\n",
    "        popt_pl, _ = curve_fit(\n",
    "            utils.power_law,\n",
    "            lags,\n",
    "            abs_coco,\n",
    "            bounds=([-np.inf, -np.inf], [np.inf, 0]),\n",
    "            maxfev=5000\n",
    "        )\n",
    "        gamma_col = f\"gamma_{pool_order}\"\n",
    "        spgc_df.loc[spgc_df[\"id\"] == file_name, gamma_col] = popt_pl[1]\n",
    "    except RuntimeError:\n",
    "        pass  # If fitting fails, leave as NaN\n",
    "    \n",
    "    # Fit stretched exponential\n",
    "    try:\n",
    "        popt_se, _ = curve_fit(\n",
    "            utils.stretched_exponential,\n",
    "            lags,\n",
    "            abs_coco,\n",
    "            bounds=([0, 0, -np.inf], [np.inf, 1, np.inf]),\n",
    "            maxfev=5000\n",
    "        )\n",
    "        delta_col = f\"delta_{pool_order}\"\n",
    "        beta_col = f\"beta_{pool_order}\"\n",
    "        spgc_df.loc[spgc_df[\"id\"] == file_name, delta_col] = popt_se[0]\n",
    "        spgc_df.loc[spgc_df[\"id\"] == file_name, beta_col] = popt_se[1]\n",
    "    except RuntimeError:\n",
    "        pass  # If fitting fails, leave as NaN"
   ]
  },
  {
   "cell_type": "code",
   "execution_count": 13,
   "id": "b3731b3b",
   "metadata": {},
   "outputs": [],
   "source": [
    "def process_language(spgc_df, language, pool_orders, coco_results):\n",
    "    \"\"\"\n",
    "    Process all books for a single language and multiple pool_orders.\n",
    "    \"\"\"\n",
    "    print(f\"Processing language: {language}\")\n",
    "    language_code = re.findall(r\"[a-z]{2}\", language)[0]\n",
    "    \n",
    "    # Filter metadata for the current language\n",
    "    spgc_metadata_current = spgc_df[spgc_df[\"language\"] == language]\n",
    "    \n",
    "    # Load embeddings once per language\n",
    "    model_current = load_word2vec_embeddings(language_code)\n",
    "    \n",
    "    # Iterate through each book in the current language\n",
    "    for index, row in spgc_metadata_current.iterrows():\n",
    "        file_name = row[\"id\"]\n",
    "        \n",
    "        # Load tokens\n",
    "        tokens = load_tokens(file_name)\n",
    "        \n",
    "        # Build embeddings\n",
    "        vectors = np.asarray([model_current[w] for w in tokens if w in model_current])\n",
    "        \n",
    "        # Skip if not enough vectors\n",
    "        if len(vectors) < 2:\n",
    "            continue\n",
    "        \n",
    "        # For each pool_order, compute CoCo values\n",
    "        for p_order in pool_orders:\n",
    "            compute_coco_values_for_book(\n",
    "                vectors=vectors,\n",
    "                file_name=file_name,\n",
    "                language=language,\n",
    "                pool_order=p_order,\n",
    "                coco_results=coco_results\n",
    "            )\n",
    "        \n",
    "        # For each pool_order, fit the curves and store\n",
    "        for p_order in pool_orders:\n",
    "            fit_and_store_curves(spgc_df, coco_results, file_name, p_order)"
   ]
  },
  {
   "cell_type": "markdown",
   "id": "48a35b6c",
   "metadata": {},
   "source": [
    "### Run calculations"
   ]
  },
  {
   "cell_type": "code",
   "execution_count": 14,
   "id": "2fee660d",
   "metadata": {},
   "outputs": [],
   "source": [
    "def main_coco_pipeline(spgc_metadata_sampled):\n",
    "    \"\"\"\n",
    "    Main pipeline function that:\n",
    "      1) Determines unique languages,\n",
    "      2) Iterates over each language,\n",
    "      3) Computes CoCo for each pool_order,\n",
    "      4) Fits curves, and\n",
    "      5) Stores results.\n",
    "    \"\"\"\n",
    "    languages = spgc_metadata_sampled[\"language\"].unique()\n",
    "    pool_orders = [0, 3, 9, 27]\n",
    "    \n",
    "    # We'll collect results in this list of dictionaries\n",
    "    coco_results_records = []\n",
    "    \n",
    "    for language in languages:\n",
    "        process_language(\n",
    "            spgc_df=spgc_metadata_sampled,\n",
    "            language=language,\n",
    "            pool_orders=pool_orders,\n",
    "            coco_results=coco_results_records\n",
    "        )\n",
    "    \n",
    "    return spgc_metadata_sampled, coco_results_records"
   ]
  },
  {
   "cell_type": "code",
   "execution_count": null,
   "id": "0ac19821",
   "metadata": {},
   "outputs": [],
   "source": [
    "spgc_metadata_sampled = pd.read_csv(\"data/spgc_metadata_sampled.csv\")\n",
    "spgc_metadata_sampled, coco_results = main_coco_pipeline(spgc_metadata_sampled)\\\n",
    "\n",
    "# It takes ~2 hours to complete\n",
    "\n",
    "# Save the results to a CSV file\n",
    "spgc_metadata_sampled.to_csv(\"data/spgc_metadata_sampled_after.csv\", index=False)\n",
    "coco_results_df = pd.DataFrame(coco_results)\n",
    "coco_results_df.to_csv(\"data/coco_results.csv\", index=False)"
   ]
  }
 ],
 "metadata": {
  "kernelspec": {
   "display_name": ".venv",
   "language": "python",
   "name": "python3"
  },
  "language_info": {
   "codemirror_mode": {
    "name": "ipython",
    "version": 3
   },
   "file_extension": ".py",
   "mimetype": "text/x-python",
   "name": "python",
   "nbconvert_exporter": "python",
   "pygments_lexer": "ipython3",
   "version": "3.10.7"
  }
 },
 "nbformat": 4,
 "nbformat_minor": 5
}
