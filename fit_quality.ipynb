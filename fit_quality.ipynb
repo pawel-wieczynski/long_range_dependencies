{
 "cells": [
  {
   "cell_type": "code",
   "execution_count": 1,
   "id": "2bd70f08",
   "metadata": {},
   "outputs": [],
   "source": [
    "import pandas as pd\n",
    "import numpy as np\n",
    "from scipy.optimize import curve_fit\n",
    "import utils"
   ]
  },
  {
   "cell_type": "code",
   "execution_count": 2,
   "id": "889d78f3",
   "metadata": {},
   "outputs": [],
   "source": [
    "sgpc_results = pd.read_csv('results/spgc_coco_results.csv')"
   ]
  },
  {
   "cell_type": "code",
   "execution_count": 3,
   "id": "166e5382",
   "metadata": {},
   "outputs": [
    {
     "name": "stderr",
     "output_type": "stream",
     "text": [
      "C:\\Users\\Pawel\\AppData\\Local\\Temp\\ipykernel_4008\\3902402689.py:25: OptimizeWarning: Covariance of the parameters could not be estimated\n",
      "  popt_pl, _ = curve_fit(\n",
      "C:\\Users\\Pawel\\AppData\\Local\\Temp\\ipykernel_4008\\3902402689.py:47: OptimizeWarning: Covariance of the parameters could not be estimated\n",
      "  popt_se, _ = curve_fit(\n"
     ]
    },
    {
     "data": {
      "application/vnd.microsoft.datawrangler.viewer.v0+json": {
       "columns": [
        {
         "name": "index",
         "rawType": "int64",
         "type": "integer"
        },
        {
         "name": "book_id",
         "rawType": "object",
         "type": "string"
        },
        {
         "name": "pool_order",
         "rawType": "int64",
         "type": "integer"
        },
        {
         "name": "pl_a",
         "rawType": "float64",
         "type": "float"
        },
        {
         "name": "pl_b",
         "rawType": "float64",
         "type": "float"
        },
        {
         "name": "pl_wssr",
         "rawType": "float64",
         "type": "float"
        },
        {
         "name": "se_a",
         "rawType": "float64",
         "type": "float"
        },
        {
         "name": "se_b",
         "rawType": "float64",
         "type": "float"
        },
        {
         "name": "se_c",
         "rawType": "float64",
         "type": "float"
        },
        {
         "name": "se_wssr",
         "rawType": "float64",
         "type": "float"
        }
       ],
       "conversionMethod": "pd.DataFrame",
       "ref": "5860b75d-49db-42cb-ac7c-ec304dea34bc",
       "rows": [
        [
         "0",
         "PG10054",
         "0",
         "0.03784078335481864",
         "-0.5079944027776123",
         "148.83992503502262",
         "3334.410667873438",
         "0.00015229851986407191",
         "3331.1361322120374",
         "148.74668185028926"
        ],
        [
         "1",
         "PG10054",
         "3",
         "0.35171752395434747",
         "-1.0829444240917332",
         "32.36335363844097",
         "0.5058809721710522",
         "0.9999999999756383",
         "-0.5628943558895798",
         "47.69723196436229"
        ],
        [
         "2",
         "PG10054",
         "9",
         "0.2871591302766732",
         "-0.6578846854199766",
         "141534.63934138982",
         "0.15989748331362955",
         "0.9999999999999896",
         "-1.235222320184001",
         "39.78255837552177"
        ],
        [
         "3",
         "PG10054",
         "27",
         "0.18449813042303057",
         "-0.4496359986211104",
         "1060.756023649642",
         "0.04894670554470905",
         "0.9690362639179865",
         "-1.9566708413138785",
         "26.882226789929202"
        ],
        [
         "4",
         "PG10218",
         "0",
         "0.019864492184984865",
         "-0.4001157977485649",
         "357.0231312983992",
         null,
         null,
         null,
         null
        ]
       ],
       "shape": {
        "columns": 9,
        "rows": 5
       }
      },
      "text/html": [
       "<div>\n",
       "<style scoped>\n",
       "    .dataframe tbody tr th:only-of-type {\n",
       "        vertical-align: middle;\n",
       "    }\n",
       "\n",
       "    .dataframe tbody tr th {\n",
       "        vertical-align: top;\n",
       "    }\n",
       "\n",
       "    .dataframe thead th {\n",
       "        text-align: right;\n",
       "    }\n",
       "</style>\n",
       "<table border=\"1\" class=\"dataframe\">\n",
       "  <thead>\n",
       "    <tr style=\"text-align: right;\">\n",
       "      <th></th>\n",
       "      <th>book_id</th>\n",
       "      <th>pool_order</th>\n",
       "      <th>pl_a</th>\n",
       "      <th>pl_b</th>\n",
       "      <th>pl_wssr</th>\n",
       "      <th>se_a</th>\n",
       "      <th>se_b</th>\n",
       "      <th>se_c</th>\n",
       "      <th>se_wssr</th>\n",
       "    </tr>\n",
       "  </thead>\n",
       "  <tbody>\n",
       "    <tr>\n",
       "      <th>0</th>\n",
       "      <td>PG10054</td>\n",
       "      <td>0</td>\n",
       "      <td>0.037841</td>\n",
       "      <td>-0.507994</td>\n",
       "      <td>148.839925</td>\n",
       "      <td>3334.410668</td>\n",
       "      <td>0.000152</td>\n",
       "      <td>3331.136132</td>\n",
       "      <td>148.746682</td>\n",
       "    </tr>\n",
       "    <tr>\n",
       "      <th>1</th>\n",
       "      <td>PG10054</td>\n",
       "      <td>3</td>\n",
       "      <td>0.351718</td>\n",
       "      <td>-1.082944</td>\n",
       "      <td>32.363354</td>\n",
       "      <td>0.505881</td>\n",
       "      <td>1.000000</td>\n",
       "      <td>-0.562894</td>\n",
       "      <td>47.697232</td>\n",
       "    </tr>\n",
       "    <tr>\n",
       "      <th>2</th>\n",
       "      <td>PG10054</td>\n",
       "      <td>9</td>\n",
       "      <td>0.287159</td>\n",
       "      <td>-0.657885</td>\n",
       "      <td>141534.639341</td>\n",
       "      <td>0.159897</td>\n",
       "      <td>1.000000</td>\n",
       "      <td>-1.235222</td>\n",
       "      <td>39.782558</td>\n",
       "    </tr>\n",
       "    <tr>\n",
       "      <th>3</th>\n",
       "      <td>PG10054</td>\n",
       "      <td>27</td>\n",
       "      <td>0.184498</td>\n",
       "      <td>-0.449636</td>\n",
       "      <td>1060.756024</td>\n",
       "      <td>0.048947</td>\n",
       "      <td>0.969036</td>\n",
       "      <td>-1.956671</td>\n",
       "      <td>26.882227</td>\n",
       "    </tr>\n",
       "    <tr>\n",
       "      <th>4</th>\n",
       "      <td>PG10218</td>\n",
       "      <td>0</td>\n",
       "      <td>0.019864</td>\n",
       "      <td>-0.400116</td>\n",
       "      <td>357.023131</td>\n",
       "      <td>NaN</td>\n",
       "      <td>NaN</td>\n",
       "      <td>NaN</td>\n",
       "      <td>NaN</td>\n",
       "    </tr>\n",
       "  </tbody>\n",
       "</table>\n",
       "</div>"
      ],
      "text/plain": [
       "   book_id  pool_order      pl_a      pl_b        pl_wssr         se_a  \\\n",
       "0  PG10054           0  0.037841 -0.507994     148.839925  3334.410668   \n",
       "1  PG10054           3  0.351718 -1.082944      32.363354     0.505881   \n",
       "2  PG10054           9  0.287159 -0.657885  141534.639341     0.159897   \n",
       "3  PG10054          27  0.184498 -0.449636    1060.756024     0.048947   \n",
       "4  PG10218           0  0.019864 -0.400116     357.023131          NaN   \n",
       "\n",
       "       se_b         se_c     se_wssr  \n",
       "0  0.000152  3331.136132  148.746682  \n",
       "1  1.000000    -0.562894   47.697232  \n",
       "2  1.000000    -1.235222   39.782558  \n",
       "3  0.969036    -1.956671   26.882227  \n",
       "4       NaN          NaN         NaN  "
      ]
     },
     "execution_count": 3,
     "metadata": {},
     "output_type": "execute_result"
    }
   ],
   "source": [
    "# Group the data by book_id and pool_order\n",
    "grouped = sgpc_results.groupby(['book_id', 'pool_order'])\n",
    "\n",
    "# Initialize lists to store results\n",
    "results = []\n",
    "\n",
    "# Function to calculate WSSR\n",
    "def calculate_wssr(y_obs, y_pred):\n",
    "    \"\"\"\n",
    "    Weighted Sum of Squared Residuals\n",
    "    WSSR = Σ (y_observed - y_predicted)^2\n",
    "    Using equal weights for all points\n",
    "    \"\"\"\n",
    "    return np.sum((y_obs - y_pred)**2 / y_obs**2) # relative error\n",
    "\n",
    "# Process each group\n",
    "for (book_id, pool_order), group in grouped:\n",
    "    lags = group['lag'].values\n",
    "    abs_coco = np.abs(group['coco_value'].values)\n",
    "    \n",
    "    result = {'book_id': book_id, 'pool_order': pool_order}\n",
    "    \n",
    "    # Fit power law function\n",
    "    try:\n",
    "        popt_pl, _ = curve_fit(\n",
    "            utils.power_law,\n",
    "            lags,\n",
    "            abs_coco,\n",
    "            bounds=([-np.inf, -np.inf], [np.inf, 0]),\n",
    "            maxfev=5000\n",
    "        )\n",
    "        \n",
    "        # Calculate predicted values and WSSR\n",
    "        y_pred_pl = utils.power_law(lags, *popt_pl)\n",
    "        wssr_pl = calculate_wssr(abs_coco, y_pred_pl)\n",
    "        \n",
    "        result.update({\n",
    "            'pl_a': popt_pl[0],\n",
    "            'pl_b': popt_pl[1],\n",
    "            'pl_wssr': wssr_pl\n",
    "        })\n",
    "    except RuntimeError:\n",
    "        pass\n",
    "    \n",
    "    # Fit stretched exponential function\n",
    "    try:\n",
    "        popt_se, _ = curve_fit(\n",
    "            utils.stretched_exponential,\n",
    "            lags,\n",
    "            abs_coco,\n",
    "            bounds=([0, 0, -np.inf], [np.inf, 1, np.inf]),\n",
    "            maxfev=5000\n",
    "        )\n",
    "        \n",
    "        # Calculate predicted values and WSSR\n",
    "        y_pred_se = utils.stretched_exponential(lags, *popt_se)\n",
    "        wssr_se = calculate_wssr(abs_coco, y_pred_se)\n",
    "        \n",
    "        result.update({\n",
    "            'se_a': popt_se[0],\n",
    "            'se_b': popt_se[1],\n",
    "            'se_c': popt_se[2],\n",
    "            'se_wssr': wssr_se\n",
    "        })\n",
    "    except RuntimeError:\n",
    "        pass\n",
    "    \n",
    "    results.append(result)\n",
    "\n",
    "# Convert results to DataFrame\n",
    "fit_results = pd.DataFrame(results)\n",
    "\n",
    "fit_results.head()"
   ]
  },
  {
   "cell_type": "code",
   "execution_count": 4,
   "id": "5864f1b6",
   "metadata": {},
   "outputs": [],
   "source": [
    "fit_results.to_csv('results/sgpc_fit_results.csv', index=False)"
   ]
  },
  {
   "cell_type": "code",
   "execution_count": 5,
   "id": "ea97b3e2",
   "metadata": {},
   "outputs": [],
   "source": [
    "fit_results = pd.read_csv('results/sgpc_fit_results.csv')"
   ]
  },
  {
   "cell_type": "code",
   "execution_count": 6,
   "id": "29439f2b",
   "metadata": {},
   "outputs": [
    {
     "data": {
      "application/vnd.microsoft.datawrangler.viewer.v0+json": {
       "columns": [
        {
         "name": "index",
         "rawType": "int64",
         "type": "integer"
        },
        {
         "name": "pool_order",
         "rawType": "int64",
         "type": "integer"
        },
        {
         "name": "total_count",
         "rawType": "int64",
         "type": "integer"
        },
        {
         "name": "avg_pl_wssr",
         "rawType": "float64",
         "type": "float"
        },
        {
         "name": "pl_success_count",
         "rawType": "int64",
         "type": "integer"
        },
        {
         "name": "pl_failed_count",
         "rawType": "int64",
         "type": "integer"
        },
        {
         "name": "pl_failed_percentage",
         "rawType": "float64",
         "type": "float"
        },
        {
         "name": "avg_se_wssr",
         "rawType": "float64",
         "type": "float"
        },
        {
         "name": "se_success_count",
         "rawType": "int64",
         "type": "integer"
        },
        {
         "name": "se_failed_count",
         "rawType": "int64",
         "type": "integer"
        },
        {
         "name": "se_failed_percentage",
         "rawType": "float64",
         "type": "float"
        }
       ],
       "conversionMethod": "pd.DataFrame",
       "ref": "d4261b8d-775b-488d-a6e8-1429f122e5aa",
       "rows": [
        [
         "0",
         "0",
         "1357",
         "6799797.062390023",
         "1357",
         "0",
         "0.0",
         "3825907.6894103657",
         "1203",
         "154",
         "11.348563006632277"
        ],
        [
         "1",
         "3",
         "1357",
         "139888.24080888205",
         "1357",
         "0",
         "0.0",
         "116514.91201667655",
         "1273",
         "84",
         "6.190125276344879"
        ],
        [
         "2",
         "9",
         "1357",
         "354608978.97199464",
         "1357",
         "0",
         "0.0",
         "5989.441360276083",
         "1356",
         "1",
         "0.07369196757553427"
        ],
        [
         "3",
         "27",
         "1357",
         "107474828.59450787",
         "1357",
         "0",
         "0.0",
         "380697.6614076087",
         "1357",
         "0",
         "0.0"
        ]
       ],
       "shape": {
        "columns": 10,
        "rows": 4
       }
      },
      "text/html": [
       "<div>\n",
       "<style scoped>\n",
       "    .dataframe tbody tr th:only-of-type {\n",
       "        vertical-align: middle;\n",
       "    }\n",
       "\n",
       "    .dataframe tbody tr th {\n",
       "        vertical-align: top;\n",
       "    }\n",
       "\n",
       "    .dataframe thead th {\n",
       "        text-align: right;\n",
       "    }\n",
       "</style>\n",
       "<table border=\"1\" class=\"dataframe\">\n",
       "  <thead>\n",
       "    <tr style=\"text-align: right;\">\n",
       "      <th></th>\n",
       "      <th>pool_order</th>\n",
       "      <th>total_count</th>\n",
       "      <th>avg_pl_wssr</th>\n",
       "      <th>pl_success_count</th>\n",
       "      <th>pl_failed_count</th>\n",
       "      <th>pl_failed_percentage</th>\n",
       "      <th>avg_se_wssr</th>\n",
       "      <th>se_success_count</th>\n",
       "      <th>se_failed_count</th>\n",
       "      <th>se_failed_percentage</th>\n",
       "    </tr>\n",
       "  </thead>\n",
       "  <tbody>\n",
       "    <tr>\n",
       "      <th>0</th>\n",
       "      <td>0</td>\n",
       "      <td>1357</td>\n",
       "      <td>6.799797e+06</td>\n",
       "      <td>1357</td>\n",
       "      <td>0</td>\n",
       "      <td>0.0</td>\n",
       "      <td>3.825908e+06</td>\n",
       "      <td>1203</td>\n",
       "      <td>154</td>\n",
       "      <td>11.348563</td>\n",
       "    </tr>\n",
       "    <tr>\n",
       "      <th>1</th>\n",
       "      <td>3</td>\n",
       "      <td>1357</td>\n",
       "      <td>1.398882e+05</td>\n",
       "      <td>1357</td>\n",
       "      <td>0</td>\n",
       "      <td>0.0</td>\n",
       "      <td>1.165149e+05</td>\n",
       "      <td>1273</td>\n",
       "      <td>84</td>\n",
       "      <td>6.190125</td>\n",
       "    </tr>\n",
       "    <tr>\n",
       "      <th>2</th>\n",
       "      <td>9</td>\n",
       "      <td>1357</td>\n",
       "      <td>3.546090e+08</td>\n",
       "      <td>1357</td>\n",
       "      <td>0</td>\n",
       "      <td>0.0</td>\n",
       "      <td>5.989441e+03</td>\n",
       "      <td>1356</td>\n",
       "      <td>1</td>\n",
       "      <td>0.073692</td>\n",
       "    </tr>\n",
       "    <tr>\n",
       "      <th>3</th>\n",
       "      <td>27</td>\n",
       "      <td>1357</td>\n",
       "      <td>1.074748e+08</td>\n",
       "      <td>1357</td>\n",
       "      <td>0</td>\n",
       "      <td>0.0</td>\n",
       "      <td>3.806977e+05</td>\n",
       "      <td>1357</td>\n",
       "      <td>0</td>\n",
       "      <td>0.000000</td>\n",
       "    </tr>\n",
       "  </tbody>\n",
       "</table>\n",
       "</div>"
      ],
      "text/plain": [
       "   pool_order  total_count   avg_pl_wssr  pl_success_count  pl_failed_count  \\\n",
       "0           0         1357  6.799797e+06              1357                0   \n",
       "1           3         1357  1.398882e+05              1357                0   \n",
       "2           9         1357  3.546090e+08              1357                0   \n",
       "3          27         1357  1.074748e+08              1357                0   \n",
       "\n",
       "   pl_failed_percentage   avg_se_wssr  se_success_count  se_failed_count  \\\n",
       "0                   0.0  3.825908e+06              1203              154   \n",
       "1                   0.0  1.165149e+05              1273               84   \n",
       "2                   0.0  5.989441e+03              1356                1   \n",
       "3                   0.0  3.806977e+05              1357                0   \n",
       "\n",
       "   se_failed_percentage  \n",
       "0             11.348563  \n",
       "1              6.190125  \n",
       "2              0.073692  \n",
       "3              0.000000  "
      ]
     },
     "execution_count": 6,
     "metadata": {},
     "output_type": "execute_result"
    }
   ],
   "source": [
    "# Create a summary dataframe grouped by pool_order\n",
    "summary = pd.DataFrame()\n",
    "\n",
    "# Get total counts per pool_order\n",
    "total_counts = fit_results.groupby('pool_order').size().reset_index(name='total_count')\n",
    "\n",
    "# Average SSR values\n",
    "avg_wssr = fit_results.groupby('pool_order').agg({\n",
    "    'pl_wssr': 'mean',\n",
    "    'se_wssr': 'mean'\n",
    "}).reset_index()\n",
    "\n",
    "# Count non-null values to determine successful convergence\n",
    "convergence_counts = fit_results.groupby('pool_order').agg({\n",
    "    'pl_wssr': 'count',\n",
    "    'se_wssr': 'count'\n",
    "}).reset_index()\n",
    "\n",
    "# Merge all information\n",
    "summary = total_counts.merge(avg_wssr, on='pool_order')\n",
    "summary = summary.merge(convergence_counts, on='pool_order', suffixes=('', '_count'))\n",
    "\n",
    "# Calculate failed counts and percentages\n",
    "summary['pl_failed_count'] = summary['total_count'] - summary['pl_wssr_count']\n",
    "summary['se_failed_count'] = summary['total_count'] - summary['se_wssr_count']\n",
    "summary['pl_failed_percentage'] = (summary['pl_failed_count'] / summary['total_count']) * 100\n",
    "summary['se_failed_percentage'] = (summary['se_failed_count'] / summary['total_count']) * 100\n",
    "\n",
    "# Rename columns for clarity\n",
    "summary.rename(columns={\n",
    "    'pl_wssr': 'avg_pl_wssr',\n",
    "    'se_wssr': 'avg_se_wssr',\n",
    "    'pl_wssr_count': 'pl_success_count',\n",
    "    'se_wssr_count': 'se_success_count'\n",
    "}, inplace=True)\n",
    "\n",
    "# Reorder columns for better readability\n",
    "summary = summary[['pool_order', 'total_count', \n",
    "                  'avg_pl_wssr', 'pl_success_count', 'pl_failed_count', 'pl_failed_percentage',\n",
    "                  'avg_se_wssr', 'se_success_count', 'se_failed_count', 'se_failed_percentage']]\n",
    "\n",
    "summary"
   ]
  },
  {
   "cell_type": "code",
   "execution_count": null,
   "id": "bb481419",
   "metadata": {},
   "outputs": [],
   "source": [
    "summary_latex = summary[['pool_order', 'pl_failed_percentage', 'avg_pl_wssr', 'se_failed_percentage', 'avg_se_wssr']].to_latex()\n",
    "print(summary_latex)"
   ]
  }
 ],
 "metadata": {
  "kernelspec": {
   "display_name": ".venv",
   "language": "python",
   "name": "python3"
  },
  "language_info": {
   "codemirror_mode": {
    "name": "ipython",
    "version": 3
   },
   "file_extension": ".py",
   "mimetype": "text/x-python",
   "name": "python",
   "nbconvert_exporter": "python",
   "pygments_lexer": "ipython3",
   "version": "3.10.7"
  }
 },
 "nbformat": 4,
 "nbformat_minor": 5
}
